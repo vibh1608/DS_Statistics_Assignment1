{
 "cells": [
  {
   "cell_type": "code",
   "execution_count": 20,
   "metadata": {},
   "outputs": [],
   "source": [
    "#importing numpy package \n",
    "import numpy as np"
   ]
  },
  {
   "cell_type": "code",
   "execution_count": 21,
   "metadata": {},
   "outputs": [
    {
     "name": "stdout",
     "output_type": "stream",
     "text": [
      "Standard deviation is : $ 335.92740617910624\n"
     ]
    }
   ],
   "source": [
    "#1\n",
    "#storing dataset in 'x' list\n",
    "x = [1550, 1700, 900, 850, 1000, 950]\n",
    "\n",
    "#calculating standard deviation\n",
    "std1 = np.std(x)\n",
    "\n",
    "#printing the std. deviation value\n",
    "print(\"Standard deviation is : $\",std1)"
   ]
  },
  {
   "cell_type": "code",
   "execution_count": 22,
   "metadata": {},
   "outputs": [
    {
     "name": "stdout",
     "output_type": "stream",
     "text": [
      "Variance of the data is:  5183.25\n"
     ]
    }
   ],
   "source": [
    "#2\n",
    "#storing dataset in 'y' list\n",
    "y = [3, 21, 98, 203, 17, 9]\n",
    "\n",
    "#calculating the variance of dataset\n",
    "var1 = np.var(y)\n",
    "\n",
    "#printing the variance value\n",
    "print(\"Variance of the data is: \",var1)"
   ]
  },
  {
   "cell_type": "code",
   "execution_count": 23,
   "metadata": {},
   "outputs": [
    {
     "name": "stdout",
     "output_type": "stream",
     "text": [
      "p[x=0] =  0.8\n",
      "p[x=1] =  0.1\n",
      "p[x=2] =  0.07\n",
      "p[x=3] =  0.03\n"
     ]
    }
   ],
   "source": [
    "#3\n",
    "#storing the no. of students passed in each subject in 'z' list\n",
    "z = np.array([80,10,7,3])\n",
    "\n",
    "#probability distribution of a student passed in 'zero' subject\n",
    "p0 = z[0]/sum(z)\n",
    "\n",
    "#probability distribution of a student passed in 'one' subject\n",
    "p1 = z[1]/sum(z)\n",
    "\n",
    "#probability distribution of a student passed in 'two' subjects\n",
    "p2 = z[2]/sum(z)\n",
    "\n",
    "#probability distribution of a student passed in 'three' subjects\n",
    "p3 = z[3]/sum(z)\n",
    "\n",
    "#printing the probability distribution values\n",
    "print(\"p[x=0] = \",p0)\n",
    "print(\"p[x=1] = \",p1)\n",
    "print(\"p[x=2] = \",p2)\n",
    "print(\"p[x=3] = \",p3)"
   ]
  },
  {
   "cell_type": "code",
   "execution_count": null,
   "metadata": {},
   "outputs": [],
   "source": []
  }
 ],
 "metadata": {
  "kernelspec": {
   "display_name": "Python 3",
   "language": "python",
   "name": "python3"
  },
  "language_info": {
   "codemirror_mode": {
    "name": "ipython",
    "version": 3
   },
   "file_extension": ".py",
   "mimetype": "text/x-python",
   "name": "python",
   "nbconvert_exporter": "python",
   "pygments_lexer": "ipython3",
   "version": "3.7.0"
  }
 },
 "nbformat": 4,
 "nbformat_minor": 2
}
